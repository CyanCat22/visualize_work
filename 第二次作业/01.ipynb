{
 "cells": [
  {
   "cell_type": "markdown",
   "metadata": {},
   "source": [
    "## 使用 Python 和 Echarts 进行数据可视化分析：以旅游景点销量和星级景点统计为例\n",
    "\n",
    "### 基于全国各地区景点门票的售卖情况数据，分析全国热门景点分布和国民出游情况\n",
    "\n",
    "**（全国景点分布，国民假期出游分析及建议）**\n",
    "\n",
    "1. 全国销量 Top20 的热门景点（热门景点）； slae\n",
    "2. 全国各省市 4A、5A 景区数量（景点分布情况）； rank 数量 在省市的分布\n",
    "3. 全国各省市假期出行数据在地图上的分布（出游分析及建议）。\n"
   ]
  },
  {
   "cell_type": "code",
   "execution_count": 8,
   "metadata": {},
   "outputs": [],
   "source": [
    "import pandas as pd\n",
    "from pyecharts.charts import Bar\n",
    "from pyecharts import options as opts\n",
    "from pyecharts.charts import Map\n",
    "from pyecharts.options import VisualMapOpts"
   ]
  },
  {
   "cell_type": "code",
   "execution_count": 9,
   "metadata": {},
   "outputs": [
    {
     "name": "stdout",
     "output_type": "stream",
     "text": [
      "   城市        名称   星级   评分     价格     销量       省/市/区                    坐标  \\\n",
      "0  上海   上海迪士尼乐园  NaN  0.0  325.0  19459  上海·上海·浦东新区  121.667917,31.149712   \n",
      "1  上海  上海海昌海洋公园   4A  0.0  276.5  19406  上海·上海·浦东新区  121.915647,30.917713   \n",
      "2  上海   上海野生动物园   5A  3.6  116.0   6764  上海·上海·浦东新区  121.728112,31.059636   \n",
      "3  上海      东方绿舟   4A  3.5   40.0   5353   上海·上海·青浦区  121.015977,31.107866   \n",
      "4  上海      东方明珠   5A  3.8   54.0   3966  上海·上海·浦东新区   121.50626,31.245369   \n",
      "\n",
      "                    简介   是否免费                      具体地址  \n",
      "0         每个女孩都有一场迪士尼梦  False  上海市浦东新区川沙镇黄赵路310号上海迪士尼乐园  \n",
      "1   看珍稀海洋生物 | 玩超刺激娱乐项目  False         上海市浦东新区南汇城银飞路166号  \n",
      "2  全球动物聚集地 | 零距离和动物做朋友  False           上海市浦东新区南六公路178号  \n",
      "3     全国首屈一指的青少年校外教育营地  False          上海市青浦区沪青平公路6888号  \n",
      "4       感受云端漫步，品味老上海风情  False             上海市浦东新区世纪大道1号  \n"
     ]
    }
   ],
   "source": [
    "# 用pandas读取、导入数据集\n",
    "data = pd.read_excel(\"./旅游景点.xlsx\")\n",
    "print(data[:5])"
   ]
  },
  {
   "cell_type": "code",
   "execution_count": 10,
   "metadata": {},
   "outputs": [
    {
     "name": "stdout",
     "output_type": "stream",
     "text": [
      "['上海迪士尼乐园', '上海海昌海洋公园', '故宫', '秦始皇帝陵博物院（兵马俑）', '成都大熊猫繁育研究基地', '颐和园', '八达岭长城', '长隆野生动物世界', '上海野生动物园', '珠海长隆海洋王国', '七彩云南欢乐世界', '瘦西湖', '南京总统府', '华山景区', '华清宫', '北京野生动物园', '东方绿舟', '天坛公园', '恭王府', '长恨歌']\n",
      "[19459, 19406, 15277, 12714, 9731, 9633, 9618, 8891, 6764, 6545, 6468, 6005, 5920, 5808, 5702, 5498, 5353, 5300, 5260, 5195]\n"
     ]
    }
   ],
   "source": [
    "# 销量Top20的热门景点\n",
    "# 先将数据集按照销量多少进行排序 sort_values()\n",
    "data_sale = data.sort_values(by=\"销量\", ascending=False)\n",
    "# print(data_sale[:20])\n",
    "print(list(data_sale[\"名称\"])[:20])\n",
    "print(data_sale[\"销量\"].values.tolist()[:20])\n",
    "Sale = (\n",
    "    Bar()\n",
    "    .add_xaxis(list(data_sale[\"名称\"])[:20])\n",
    "    .add_yaxis(\"销量\", data_sale[\"销量\"].values.tolist()[:20])\n",
    "    #\n",
    "    .set_global_opts(\n",
    "        title_opts=opts.TitleOpts(title=\"全国销量Top20的景点\", pos_top=\"4%\", pos_left=\"40%\"),\n",
    "        # xaxis_opts=opts.AxisOpts(name=\"景点名称\",\n",
    "        #                          splitline_opts=opts.SplitLineOpts(is_show=True)),\n",
    "        xaxis_opts=opts.AxisOpts(\n",
    "            name=\"省市\",\n",
    "            axislabel_opts=opts.LabelOpts(interval=0, rotate=20),\n",
    "            splitline_opts=opts.SplitLineOpts(is_show=True),\n",
    "        ),\n",
    "        yaxis_opts=opts.AxisOpts(name=\"销量\"),\n",
    "        legend_opts=opts.LegendOpts(pos_left=\"80%\", pos_top=\"20%\"),\n",
    "    )\n",
    "    .set_series_opts(label_opts=opts.LabelOpts(position=\"top\"))\n",
    "    # 生成\n",
    "    .render(\"Top20销量.html\")\n",
    ")"
   ]
  },
  {
   "cell_type": "code",
   "execution_count": 11,
   "metadata": {},
   "outputs": [
    {
     "name": "stdout",
     "output_type": "stream",
     "text": [
      "   城市        名称  星级   评分     价格     销量       省/市/区                    坐标  \\\n",
      "1  上海  上海海昌海洋公园  4A  0.0  276.5  19406  上海·上海·浦东新区  121.915647,30.917713   \n",
      "2  上海   上海野生动物园  5A  3.6  116.0   6764  上海·上海·浦东新区  121.728112,31.059636   \n",
      "3  上海      东方绿舟  4A  3.5   40.0   5353   上海·上海·青浦区  121.015977,31.107866   \n",
      "4  上海      东方明珠  5A  3.8   54.0   3966  上海·上海·浦东新区   121.50626,31.245369   \n",
      "7  上海     上海科技馆  5A  3.7   45.0   2120  上海·上海·浦东新区   121.54785,31.224219   \n",
      "\n",
      "                    简介   是否免费                          具体地址  \n",
      "1   看珍稀海洋生物 | 玩超刺激娱乐项目  False             上海市浦东新区南汇城银飞路166号  \n",
      "2  全球动物聚集地 | 零距离和动物做朋友  False               上海市浦东新区南六公路178号  \n",
      "3     全国首屈一指的青少年校外教育营地  False              上海市青浦区沪青平公路6888号  \n",
      "4       感受云端漫步，品味老上海风情  False                 上海市浦东新区世纪大道1号  \n",
      "7    魔都科普教育殿堂 | 周末遛娃圣地  False  上海市浦东新区世纪大道2000号(近二号线上海科技馆站)  \n",
      "城市\n",
      "上海     25\n",
      "云南     31\n",
      "内蒙古    23\n",
      "北京     38\n",
      "吉林     10\n",
      "Name: 星级, dtype: int64\n"
     ]
    }
   ],
   "source": [
    "# 先从数据中提取出4A、5A星级的景点\n",
    "data_rank = data[data[\"星级\"].isin([\"4A\", \"5A\"])]\n",
    "print(data_rank[:5])\n",
    "# 统计各省市的星级景点数量\n",
    "count = data_rank.groupby(\"城市\").count()[\"星级\"]\n",
    "\n",
    "print(count[:5])\n",
    "Rank = (\n",
    "    Bar()\n",
    "    .add_xaxis(count.index.values.tolist())\n",
    "    .add_yaxis(\"4A, 5A级景点数量\", count.values.tolist())\n",
    "    .set_global_opts(\n",
    "        title_opts=opts.TitleOpts(title=\"各省市4A-5A景区数量\", pos_left=\"40%\"),\n",
    "        xaxis_opts=opts.AxisOpts(\n",
    "            name=\"省市\",\n",
    "            axislabel_opts=opts.LabelOpts(interval=0, rotate=35),\n",
    "            splitline_opts=opts.SplitLineOpts(is_show=True),\n",
    "        ),\n",
    "        yaxis_opts=opts.AxisOpts(name=\"数量\"),\n",
    "        legend_opts=opts.LegendOpts(pos_left=\"80%\", pos_top=\"15%\"),\n",
    "    )\n",
    "    .render(\"各省市4A-5A景区数量.html\")\n",
    ")"
   ]
  },
  {
   "cell_type": "code",
   "execution_count": 12,
   "metadata": {},
   "outputs": [],
   "source": [
    "# 合并生成的两个html中的表格\n",
    "# 可以不进行合并\n",
    "with open(\"Top20销量.html\", \"r\", encoding=\"utf-8\") as f1:\n",
    "\n",
    "    html1 = f1.read()\n",
    "\n",
    "with open(\"各省市4A-5A景区数量.html\", \"r\", encoding=\"utf-8\") as f2:\n",
    "    html2 = f2.read()\n",
    "\n",
    "final_html = html1 + html2\n",
    "\n",
    "with open(\"final.html\", \"w\", encoding=\"utf-8\") as f:\n",
    "    f.write(final_html)"
   ]
  },
  {
   "cell_type": "code",
   "execution_count": 24,
   "metadata": {},
   "outputs": [
    {
     "name": "stdout",
     "output_type": "stream",
     "text": [
      "   城市     销量\n",
      "0  上海  19459\n",
      "1  上海  19406\n",
      "2  上海   6764\n",
      "3  上海   5353\n",
      "4  上海   3966\n",
      "城市\n",
      "上海     84084\n",
      "云南     28056\n",
      "内蒙古     3959\n",
      "北京     93987\n",
      "台湾      1001\n",
      "Name: 销量, dtype: int64\n",
      "['上海', '云南', '内蒙古', '北京', '台湾', '吉林', '四川', '天津', '宁夏', '安徽', '山东', '山西', '广东', '广西', '新疆', '江苏', '江西', '河北', '河南', '浙江', '海南', '湖北', '湖南', '澳门', '甘肃', '福建', '西藏', '贵州', '辽宁', '重庆', '陕西', '青海', '香港', '黑龙江']\n",
      "[84084, 28056, 3959, 93987, 1001, 3772, 65052, 5254, 5622, 21027, 32147, 15904, 62757, 37946, 3614, 80783, 11046, 6826, 33776, 45481, 44123, 22563, 6980, 3128, 4338, 23256, 7028, 22499, 10423, 20054, 64353, 4591, 1006, 4639]\n"
     ]
    }
   ],
   "source": [
    "# 全国各省市假期出行数据在地图上的分布\n",
    "data_city = data[[\"城市\", \"销量\"]]\n",
    "print(data_city[:5])\n",
    "# 对各省市销量累加求和\n",
    "city_cnt = data_city.groupby(\"城市\").sum()[\"销量\"]\n",
    "print(city_cnt[:5])\n",
    "city_list = city_cnt.index.tolist()\n",
    "sale_list = city_cnt.values.tolist()\n",
    "print(city_list)\n",
    "print(sale_list)\n",
    "\n",
    "namemap = {\n",
    "    \"黑龙江省\": \"黑龙江\",\n",
    "    \"吉林省\": \"吉林\",\n",
    "    \"辽宁省\": \"辽宁\",\n",
    "    \"北京市\": \"北京\",\n",
    "    \"天津市\": \"天津\",\n",
    "    \"河北省\": \"河北\",\n",
    "    \"山西省\": \"山西\",\n",
    "    \"内蒙古自治区\": \"内蒙古\",\n",
    "    \"上海市\": \"上海\",\n",
    "    \"江苏省\": \"江苏\",\n",
    "    \"山东省\": \"山东\",\n",
    "    \"浙江省\": \"浙江\",\n",
    "    \"安徽省\": \"安徽\",\n",
    "    \"江西省\": \"江西\",\n",
    "    \"福建省\": \"福建\",\n",
    "    \"广东省\": \"广东\",\n",
    "    \"澳门特别行政区\": \"澳门\",\n",
    "    \"台湾省\": \"台湾\",\n",
    "    \"香港特别行政区\": \"香港\",\n",
    "    \"西藏自治区\": \"西藏\",\n",
    "    \"广西壮族自治区\": \"广西\",\n",
    "    \"海南省\": \"海南\",\n",
    "    \"河南省\": \"河南\",\n",
    "    \"湖北省\": \"湖北\",\n",
    "    \"湖南省\": \"湖南\",\n",
    "    \"陕西省\": \"陕西\",\n",
    "    \"新疆维吾尔自治区\": \"新疆\",\n",
    "    \"宁夏回族自治区\": \"宁夏\",\n",
    "    \"甘肃省\": \"甘肃\",\n",
    "    \"青海省\": \"青海\",\n",
    "    \"重庆市\": \"重庆\",\n",
    "    \"四川省\": \"四川\",\n",
    "    \"贵州省\": \"贵州\",\n",
    "    \"云南省\": \"云南\",\n",
    "}\n",
    "\n",
    "c = (\n",
    "    Map()\n",
    "    # 添加中国地图\n",
    "    .add(\n",
    "        \"旅游景点\", [list(z) for z in zip(city_list, sale_list)], \"china\", name_map=namemap\n",
    "    )\n",
    "    .set_global_opts(\n",
    "        title_opts=opts.TitleOpts(title=\"全国各省市假期出行数据在地图上的分布\", pos_left=\"30%\"),\n",
    "        legend_opts=opts.LegendOpts(pos_top=\"10%\", pos_left=\"70%\"),\n",
    "        visualmap_opts=opts.VisualMapOpts(min_=1000, max_=100000, is_piecewise=True),\n",
    "    )\n",
    "    .render(\"全国各省市假期出行数据在地图上的分布.html\")\n",
    ")"
   ]
  },
  {
   "cell_type": "markdown",
   "metadata": {},
   "source": [
    "[源码及数据集](https://github.com/CyanCat22/visualize_rubbish/tree/master/%E7%AC%AC%E4%BA%8C%E6%AC%A1%E4%BD%9C%E4%B8%9A)  \n",
    "[echarts 官方文档](https://echarts.apache.org/zh/feature.html)\n"
   ]
  }
 ],
 "metadata": {
  "kernelspec": {
   "display_name": "Python 3 (ipykernel)",
   "language": "python",
   "name": "python3"
  },
  "language_info": {
   "codemirror_mode": {
    "name": "ipython",
    "version": 3
   },
   "file_extension": ".py",
   "mimetype": "text/x-python",
   "name": "python",
   "nbconvert_exporter": "python",
   "pygments_lexer": "ipython3",
   "version": "3.10.12"
  }
 },
 "nbformat": 4,
 "nbformat_minor": 2
}
