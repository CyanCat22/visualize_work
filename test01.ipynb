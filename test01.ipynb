{
 "cells": [
  {
   "cell_type": "code",
   "execution_count": null,
   "metadata": {},
   "outputs": [],
   "source": [
    "import numpy as np\n",
    "import matplotlib.pyplot as plt\n",
    "import csv\n",
    "import sys\n",
    "import pandas as pd"
   ]
  },
  {
   "cell_type": "code",
   "execution_count": null,
   "metadata": {},
   "outputs": [],
   "source": [
    "path = r\"D:\\work\\zufe\\Visualize\\python_xs2018.xlsx\"\n",
    "df = pd.read_excel(path)\n",
    "print(df)"
   ]
  },
  {
   "cell_type": "code",
   "execution_count": null,
   "metadata": {},
   "outputs": [],
   "source": [
    "fig = plt.figure() \n",
    "ax = fig.add_subplot(1, 1, 1)\n",
    "ax.boxplot(df['Sale'])\n",
    "plt.show()"
   ]
  },
  {
   "cell_type": "code",
   "execution_count": null,
   "metadata": {},
   "outputs": [],
   "source": [
    "import seaborn as sns # 小提琴图\n",
    "sns.violinplot(x=df['Age'], y = df['Sex'])\n",
    "sns.despine() # 去除上侧和右侧轴线\n",
    "plt.show()"
   ]
  },
  {
   "cell_type": "code",
   "execution_count": null,
   "metadata": {},
   "outputs": [],
   "source": [
    "# 散点图\n",
    "fig = plt.figure()\n",
    "ax = fig.add_subplot(1, 1, 1)\n",
    "x = df['ID']\n",
    "y = df['Income']\n",
    "z = df['Sale']\n",
    "ax.scatter(x, y, c='r', marker='s', s=60, label = 'Income') # marker散点形状\n",
    "ax.scatter(x, z, c='g', s=60, label = 'Sale')\n",
    "plt.legend() # 加图例\n",
    "plt.show()\n"
   ]
  },
  {
   "cell_type": "code",
   "execution_count": null,
   "metadata": {},
   "outputs": [],
   "source": [
    "var = df.groupby(['Sex']).sum().stack()\n",
    "# 对同样性别的数据值进行求和\n",
    "t = var.unstack() # 将var中的列变成行\n",
    "x = t['Sale']\n",
    "label1 = t.index\n",
    "plt.axis('equal') #使x轴和y轴长度相等\n",
    "plt.pie(x, labels=label1, autopct=\"%1.lf%%\")  # 用format格式化输入百分比\n",
    "plt.show()"
   ]
  },
  {
   "cell_type": "code",
   "execution_count": null,
   "metadata": {},
   "outputs": [],
   "source": [
    "fig = plt.figure()\n",
    "\n",
    "canva = fig.add_subplot(1,1, 1)\n",
    "canva.scatter(df['Age'], df['Sale'], s=df['Income']*10)\n",
    "plt.legend()\n",
    "plt.show()"
   ]
  },
  {
   "cell_type": "code",
   "execution_count": null,
   "metadata": {},
   "outputs": [],
   "source": [
    "\n",
    "import numpy as np\n",
    "import matplotlib.pyplot as plt\n",
    "import csv\n",
    "import sys\n",
    "import pandas as pd\n",
    "path = r\"D:\\work\\zufe\\Visualize\\第一次作业\\unemployment-rate-1948-2010.csv\"\n",
    "file = pd.read_csv(path)\n",
    "print(file)\n",
    "id = file['id']\n",
    "period = file['Period']\n",
    "years = file['Year'] \n",
    "# print(years)\n",
    "plt.figure()\n",
    "\n",
    "# plt.scatter(x=years, )"
   ]
  },
  {
   "cell_type": "code",
   "execution_count": null,
   "metadata": {},
   "outputs": [],
   "source": [
    "# 导入所需库\n",
    "import matplotlib.pyplot as plt\n",
    "import numpy as np\n",
    "\n",
    "# 准备数据\n",
    "x = np.array([1, 2, 3, 4])\n",
    "y = np.array([2, 4, 6, 8])\n",
    "sizes = np.array([50, 100, 150, 200])\n",
    "colors = ['r', 'g', 'b', 'y']\n",
    "labels = ['A', 'B', 'C', 'D']\n",
    "\n",
    "# 创建散点气泡图\n",
    "plt.scatter(x, y, s=sizes, c=colors, alpha=0.5)\n",
    "\n",
    "# 添加标签\n",
    "for i, label in enumerate(labels):\n",
    "    plt.annotate(label, (x[i], y[i]))\n",
    "\n",
    "# 显示图形\n",
    "plt.show()\n"
   ]
  },
  {
   "cell_type": "code",
   "execution_count": null,
   "metadata": {},
   "outputs": [],
   "source": [
    "from pyecharts.charts import Bar\n",
    "import pandas as pd\n",
    "# from pyecharts import options as opts\n",
    "import csv\n",
    "data = []\n",
    "path = r\"D:\\work\\zufe\\Visualize\\hot-dog-places.csv\"\n",
    "file = pd.read_csv(path)\n",
    "print(file)\n",
    "\n",
    "# with open(path) as f:\n",
    "#     reader = csv.reader(f)\n",
    "#     for datarow in reader:\n",
    "#         data.append(datarow)\n",
    "# print(data)\n",
    "# datax = data[0]\n",
    "# datay_A = data[1]\n",
    "# datay_B = data[2]\n",
    "# datay_C = data[3]\n",
    "# (\n",
    "#     Bar()\n",
    "#     .add_xaxis(datax)\n",
    "#     .add_yaxis(\"热狗大比赛\", datay_A)\n",
    "#     .add_yaxis('',datay_B)\n",
    "#     .render_notebook()\n",
    "# )\n"
   ]
  },
  {
   "cell_type": "code",
   "execution_count": null,
   "metadata": {},
   "outputs": [
    {
     "ename": "",
     "evalue": "",
     "output_type": "error",
     "traceback": [
      "\u001b[1;31m在当前单元格或上一个单元格中执行代码时 Kernel 崩溃。请查看单元格中的代码，以确定故障的可能原因。有关详细信息，请单击 <a href='https://aka.ms/vscodeJupyterKernelCrash'>此处</a>。有关更多详细信息，请查看 Jupyter <a href='command:jupyter.viewOutput'>log</a>。"
     ]
    }
   ],
   "source": [
    "import pandas as pd\n",
    "from pyecharts.charts import Bar\n",
    "from pyecharts import options as opts\n",
    "data = pd.DataFrame({\n",
    "    \"区域\": [\"A区\", \"B区\", \"C区\"],\n",
    "    \"总销量\": [23, 32, 14],\n",
    "    \"上衣销量\": [3, 5, 10],\n",
    "    \"裤子销量\": [15, 5, 1],\n",
    "    \"鞋袜销量\": [5, 22, 3]\n",
    "})\n",
    "bar = (\n",
    "    Bar(init_opts=opts.InitOpts(width=\"900px\", height=\"500px\"))\n",
    "    .add_xaxis(data[\"区域\"].tolist())\n",
    "    .add_yaxis(\"总销量\", data[\"总销量\"].tolist())\n",
    ")\n",
    "bar.render_notebook()\n",
    "\n"
   ]
  },
  {
   "cell_type": "code",
   "execution_count": null,
   "metadata": {},
   "outputs": [],
   "source": [
    "\n",
    "# from pyecharts import Line\n",
    "import pandas as pd\n",
    "import matplotlib.pyplot as plt\n",
    "import numpy as np\n",
    "\n",
    "path = r\"D:\\work\\zufe\\Visualize\\第一次作业\\used_cars.csv\"\n",
    "text = pd.read_csv(path)\n",
    "# print(text)\n",
    "years = text['year']\n",
    "prices = text['price']\n",
    "miles = text['miles']\n",
    "horsepower = text['horsepower']\n",
    "# 选取的列为year, price,miles, door\n",
    "# print(years)\n",
    "# print(prices)\n",
    "# print(miles)\n",
    "# print(horsepower)\n",
    "plt.figure()\n",
    "# 拟合曲线\n",
    "plt.scatter(x=prices, y=years, s = miles * 0.005, c='green', alpha=0.3)\n",
    "plt.xlabel('price')\n",
    "plt.ylabel('year')\n",
    "# poly = np.polyfit(prices, years, deg=2)\n",
    "# plt.plot(np.polyval(poly, years),years,  c='r')\n",
    "plt.show()"
   ]
  },
  {
   "cell_type": "code",
   "execution_count": null,
   "metadata": {},
   "outputs": [],
   "source": [
    "# from pyecharts.globals import ThemeType\n",
    "# CurrentConfig.NOTEBOOK_TYPE = NotebookType.JUPYTER_NOTEBOOK\n",
    "\n",
    "from pyecharts.globals import CurrentConfig, NotebookType,ThemeType\n",
    "CurrentConfig.NOTEBOOK_TYPE = NotebookType.JUPYTER_NOTEBOOK\n",
    "\n",
    "from pyecharts.charts import Bar\n",
    "\n",
    "bar = Bar()\n",
    "bar.add_xaxis([\"衬衫\", \"羊毛衫\", \"雪纺衫\", \"裤子\", \"高跟鞋\", \"袜子\"])\n",
    "bar.add_yaxis(\"商家A\", [5, 20, 36, 10, 75, 90])\n",
    "# render 会生成本地 HTML 文件，默认会在当前目录生成 render.html 文件\n",
    "# 也可以传入路径参数，如 bar.render(\"mycharts.html\")\n",
    "bar.render_notebook()\n",
    "\n"
   ]
  }
 ],
 "metadata": {
  "kernelspec": {
   "display_name": "py310",
   "language": "python",
   "name": "python3"
  },
  "language_info": {
   "codemirror_mode": {
    "name": "ipython",
    "version": 3
   },
   "file_extension": ".py",
   "mimetype": "text/x-python",
   "name": "python",
   "nbconvert_exporter": "python",
   "pygments_lexer": "ipython3",
   "version": "3.10.12"
  },
  "orig_nbformat": 4
 },
 "nbformat": 4,
 "nbformat_minor": 2
}
