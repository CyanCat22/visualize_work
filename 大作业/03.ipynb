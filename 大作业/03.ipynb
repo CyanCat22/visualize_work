{
 "cells": [
  {
   "cell_type": "code",
   "execution_count": 266,
   "metadata": {},
   "outputs": [],
   "source": [
    "import pandas as pd\n",
    "from pyecharts.charts import Line\n",
    "import os\n",
    "import re\n",
    "from pyecharts import options as opts\n",
    "from jieba import analyse\n",
    "from pyecharts.charts import Bar\n",
    "import jieba"
   ]
  },
  {
   "cell_type": "code",
   "execution_count": 267,
   "metadata": {},
   "outputs": [
    {
     "name": "stdout",
     "output_type": "stream",
     "text": [
      "                           2013                         2014  \\\n",
      "0     (中国, 0.06552290547998568)     (人民, 0.0814047781070424)   \n",
      "1     (人民, 0.06382995660005455)    (中国, 0.08010620423081988)   \n",
      "2    (我们, 0.052472767041344244)     (老师, 0.0630768897382019)   \n",
      "3    (学习, 0.047535553452796704)  (中华民族, 0.05471805989220753)   \n",
      "4   (社会主义, 0.04445800248738932)   (民族, 0.046841441114582764)   \n",
      "5     (同志, 0.04444845297131205)     (学生, 0.0408274991030899)   \n",
      "6  (2013, 0.043837355121983716)    (我们, 0.03886289992383581)   \n",
      "7     (伟大, 0.04294230795933458)   (发展, 0.037616576684492135)   \n",
      "\n",
      "                          2015                          2016  \\\n",
      "0    (文艺, 0.13945756716998348)    (社会科学, 0.0760930793322059)   \n",
      "1    (人民, 0.09552717544570269)     (创新, 0.06674832564891241)   \n",
      "2  (网络空间, 0.04803430530993537)     (哲学, 0.05842439058921419)   \n",
      "3   (互联网, 0.04710104932943935)    (科技, 0.057907489280705465)   \n",
      "4    (发展, 0.04245154058090486)    (发展, 0.052543570700176366)   \n",
      "5    (中国, 0.04140781339035923)     (我国, 0.04320251766900777)   \n",
      "6    (文化, 0.03977593882446415)  (马克思主义, 0.04120033217327846)   \n",
      "7    (精神, 0.03716629837103262)     (人民, 0.03845176238404141)   \n",
      "\n",
      "                         2017                         2018  \\\n",
      "0  (社会主义, 0.0673131549574307)     (人民, 0.1098396863135205)   \n",
      "1   (发展, 0.06542098746768568)    (伟大, 0.08242739808434021)   \n",
      "2   (人民, 0.06308432172089612)  (社会主义, 0.07549021161158492)   \n",
      "3   (坚持, 0.05828657779401171)    (中国, 0.07172046165979626)   \n",
      "4   (建设, 0.05387072503698467)  (中华民族, 0.05934575606970387)   \n",
      "5   (中国, 0.04541795701864774)    (发展, 0.04827734645228145)   \n",
      "6   (特色, 0.04053395829040904)    (奋斗, 0.04488687395221985)   \n",
      "7   (全面, 0.03783657512479817)    (美育, 0.04412605009182658)   \n",
      "\n",
      "                          2019                         2020  \\\n",
      "0     (文明, 0.1439151579987564)    (发展, 0.07466506494724248)   \n",
      "1     (中国, 0.0883779913473231)  (经济特区, 0.06908768792957522)   \n",
      "2    (文化, 0.08813255276301336)    (文化, 0.06485129718155044)   \n",
      "3    (历史, 0.08731203956989116)    (建设, 0.06434046345000355)   \n",
      "4     (互鉴, 0.0709832805714003)   (考古, 0.057742756291168144)   \n",
      "5  (中华民族, 0.05864195410708891)  (社会主义, 0.05414131254584071)   \n",
      "6     (交流, 0.0514539278465875)          (人民, 0.04610055841)   \n",
      "7    (自信, 0.05007531511349332)    (历史, 0.04236612633695575)   \n",
      "\n",
      "                           2021                        2022  \n",
      "0      (习近平, 0.112482504200247)    (习近平, 0.176054461950687)  \n",
      "1     (发展, 0.07035574295525447)   (冬奥会, 0.0856159494262081)  \n",
      "2     (创新, 0.04414767762251535)  (残奥会, 0.07919475321924249)  \n",
      "3     (国家, 0.03728051914189159)   (总书记, 0.0638014653050936)  \n",
      "4    (人民, 0.036166472792678234)   (冬奥, 0.06245416196552024)  \n",
      "5  (社会主义, 0.035055114414833104)    (北京, 0.0479541551962525)  \n",
      "6    (坚持, 0.034934029403731644)   (中国, 0.04032913061027253)  \n",
      "7    (总书记, 0.03434981545366623)  (人民, 0.038554276319377453)  \n"
     ]
    }
   ],
   "source": [
    "# 读取文华主题数据\n",
    "path = \"./讲话思想数据库/文化/\"\n",
    "file_paths = []\n",
    "datas = pd.DataFrame()\n",
    "pattern = r\"\\d{4}-\\d{2}-\\d{2}\"\n",
    "\n",
    "for root, dor, files in os.walk(path):\n",
    "    for file in files:\n",
    "        # print(file)\n",
    "        text = pd.read_csv(path + file)\n",
    "        text = text.to_string(index=False)\n",
    "        # print(text)\n",
    "        date = re.findall(pattern, text)\n",
    "        if date:\n",
    "            new_data = pd.DataFrame({\"date\": date, \"text\": text})\n",
    "            # 转化为时间\n",
    "            new_data[\"date\"] = pd.to_datetime(new_data[\"date\"])\n",
    "            datas = pd.concat([datas, new_data], ignore_index=True)\n",
    "# print(datas)\n",
    "# 按照年份进行聚合\n",
    "datas[\"year\"] = datas[\"date\"].dt.year\n",
    "df_group = datas.groupby(\"year\").agg({\"text\": \"\".join})\n",
    "# print(df_group.index)\n",
    "keywords_counts = pd.DataFrame()\n",
    "for year, group in df_group.itertuples():\n",
    "    # print(year)\n",
    "    keywords = analyse.extract_tags(group, topK=8, withWeight=True)\n",
    "    # 更新每年的词频\n",
    "    keywords_counts[year] = keywords\n",
    "print(keywords_counts)"
   ]
  },
  {
   "cell_type": "code",
   "execution_count": null,
   "metadata": {},
   "outputs": [],
   "source": []
  },
  {
   "cell_type": "code",
   "execution_count": 268,
   "metadata": {},
   "outputs": [
    {
     "data": {
      "text/plain": [
       "'d:\\\\work\\\\zufe\\\\Visualize\\\\大作业\\\\ccc.html'"
      ]
     },
     "execution_count": 268,
     "metadata": {},
     "output_type": "execute_result"
    }
   ],
   "source": [
    "days = [df_group.index]\n",
    "counts = []\n",
    "line = Line()\n",
    "\n",
    "# for year, keywords in keywords_counts.items():\n",
    "#     # print(keywords)\n",
    "#     for keyword in keywords:\n",
    "#         count = []\n",
    "#         count.append(keyword[1])\n",
    "#         print(count)\n",
    "#         counts.append(count)\n",
    "\n",
    "# print(counts)\n",
    "\n",
    "# print(keywords_counts[2013])\n",
    "for year, keywords in keywords_counts.items():\n",
    "    line.add_xaxis(list(keyword[0] for keyword in keywords))\n",
    "    line.add_yaxis(year, list(keyword[1] for keyword in keywords))\n",
    "    break\n",
    "line.set_global_opts(\n",
    "    title_opts=opts.TitleOpts(title=\"关键词百分比词频\"),\n",
    "    xaxis_opts=opts.AxisOpts(axislabel_opts=opts.LabelOpts(rotate=45)),\n",
    ")\n",
    "line.render(\"ccc.html\")"
   ]
  },
  {
   "cell_type": "code",
   "execution_count": 556,
   "metadata": {},
   "outputs": [
    {
     "name": "stdout",
     "output_type": "stream",
     "text": [
      "Int64Index([2013, 2014, 2015, 2016, 2017, 2018, 2019, 2020, 2021, 2022], dtype='int64', name='year')\n"
     ]
    }
   ],
   "source": [
    "from collections import Counter\n",
    "import numpy\n",
    "\n",
    "# 读取文华主题数据\n",
    "path = \"./讲话思想数据库/文化/\"\n",
    "file_paths = []\n",
    "datas = pd.DataFrame()\n",
    "pattern = r\"\\d{4}-\\d{2}-\\d{2}\"\n",
    "\n",
    "for root, dor, files in os.walk(path):\n",
    "    for file in files:\n",
    "        # print(file)\n",
    "        text = pd.read_csv(path + file)\n",
    "        text = text.to_string(index=False)\n",
    "        # print(text)\n",
    "        date = re.findall(pattern, text)\n",
    "        if date:\n",
    "            new_data = pd.DataFrame({\"date\": date, \"text\": text})\n",
    "            # 转化为时间\n",
    "            new_data[\"date\"] = pd.to_datetime(new_data[\"date\"])\n",
    "            datas = pd.concat([datas, new_data], ignore_index=True)\n",
    "# print(datas)\n",
    "# 按照年份进行聚合\n",
    "datas[\"year\"] = datas[\"date\"].dt.year\n",
    "df_group = datas.groupby(\"year\").agg({\"text\": \"\".join})\n",
    "# print(df_group.index)\n",
    "\n",
    "with open(\"./cn_stopwords.txt\", \"r\", encoding=\"utf-8\") as f:\n",
    "    stopwords = [line.strip() for line in f.readlines()]\n",
    "punctuation = [\n",
    "    \"■\",\n",
    "    \"：\",\n",
    "    \"？\",\n",
    "    \"...\",\n",
    "    \"-\",\n",
    "    \"（\",\n",
    "    \"）\",\n",
    "    \"(\",\n",
    "    \")\",\n",
    "    \"[\",\n",
    "    \"]\",\n",
    "    \"/\",\n",
    "    \"<\",\n",
    "    \">\",\n",
    "    \".\",\n",
    "    \"..\",\n",
    "    \"x\",\n",
    "    \" \",\n",
    "    \"\\n\",\n",
    "    \"\\u3000\",\n",
    "    \"u3000\",\n",
    "]\n",
    "for i in range(100):\n",
    "    i = f\"{i}\"\n",
    "    stopwords.append(i)\n",
    "    i = \"0\" + i\n",
    "    stopwords.append(i)\n",
    "# print(stopwords)"
   ]
  },
  {
   "cell_type": "code",
   "execution_count": 526,
   "metadata": {},
   "outputs": [
    {
     "name": "stdout",
     "output_type": "stream",
     "text": [
      "{'中国': 242, '社会主义': 78, '文化': 28, '青年': 64, '科技': 4, '全国': 41, '创新': 25, '冬奥会': 0}\n",
      "{'中国': 254, '社会主义': 43, '文化': 63, '青年': 18, '科技': 0, '全国': 19, '创新': 5, '冬奥会': 0}\n",
      "{'中国': 91, '社会主义': 26, '文化': 52, '青年': 11, '科技': 1, '全国': 3, '创新': 14, '冬奥会': 6}\n",
      "{'中国': 147, '社会主义': 60, '文化': 105, '青年': 23, '科技': 152, '全国': 14, '创新': 178, '冬奥会': 0}\n",
      "{'中国': 223, '社会主义': 157, '文化': 70, '青年': 9, '科技': 30, '全国': 24, '创新': 53, '冬奥会': 1}\n",
      "{'中国': 100, '社会主义': 50, '文化': 9, '青年': 12, '科技': 3, '全国': 11, '创新': 13, '冬奥会': 0}\n",
      "{'中国': 177, '社会主义': 37, '文化': 105, '青年': 0, '科技': 4, '全国': 7, '创新': 13, '冬奥会': 0}\n",
      "{'中国': 72, '社会主义': 48, '文化': 72, '青年': 7, '科技': 12, '全国': 8, '创新': 40, '冬奥会': 2}\n",
      "{'中国': 398, '社会主义': 206, '文化': 110, '青年': 14, '科技': 213, '全国': 53, '创新': 288, '冬奥会': 2}\n",
      "{'中国': 153, '社会主义': 31, '文化': 68, '青年': 12, '科技': 8, '全国': 11, '创新': 18, '冬奥会': 80}\n",
      "key: [[{'中国': 242, '社会主义': 78, '文化': 28, '青年': 64, '科技': 4, '全国': 41, '创新': 25, '冬奥会': 0}], [{'中国': 254, '社会主义': 43, '文化': 63, '青年': 18, '科技': 0, '全国': 19, '创新': 5, '冬奥会': 0}], [{'中国': 91, '社会主义': 26, '文化': 52, '青年': 11, '科技': 1, '全国': 3, '创新': 14, '冬奥会': 6}], [{'中国': 147, '社会主义': 60, '文化': 105, '青年': 23, '科技': 152, '全国': 14, '创新': 178, '冬奥会': 0}], [{'中国': 223, '社会主义': 157, '文化': 70, '青年': 9, '科技': 30, '全国': 24, '创新': 53, '冬奥会': 1}], [{'中国': 100, '社会主义': 50, '文化': 9, '青年': 12, '科技': 3, '全国': 11, '创新': 13, '冬奥会': 0}], [{'中国': 177, '社会主义': 37, '文化': 105, '青年': 0, '科技': 4, '全国': 7, '创新': 13, '冬奥会': 0}], [{'中国': 72, '社会主义': 48, '文化': 72, '青年': 7, '科技': 12, '全国': 8, '创新': 40, '冬奥会': 2}], [{'中国': 398, '社会主义': 206, '文化': 110, '青年': 14, '科技': 213, '全国': 53, '创新': 288, '冬奥会': 2}], [{'中国': 153, '社会主义': 31, '文化': 68, '青年': 12, '科技': 8, '全国': 11, '创新': 18, '冬奥会': 80}]]\n"
     ]
    }
   ],
   "source": [
    "keyword_count_list = []\n",
    "keywords = [\"中国\", \"社会主义\", \"文化\", \"青年\", \"科技\", \"全国\", \"创新\", \"冬奥会\"]\n",
    "# 先分词\n",
    "filter_list = []\n",
    "for text in df_group.values:\n",
    "    seg = list(jieba.cut(str(text), cut_all=False))\n",
    "    filter = [\n",
    "        word\n",
    "        for word in seg\n",
    "        if word not in stopwords and word not in punctuation and len(word) != 1\n",
    "    ]\n",
    "    # print('filter:',filter)\n",
    "    word_count = Counter(filter)\n",
    "    # print(1,word_count)\n",
    "    keyword_count = []\n",
    "    count_dict = {}\n",
    "\n",
    "    for keyword in keywords:\n",
    "        flag = 0\n",
    "        if keyword in word_count:\n",
    "            # count = {keyword: word_count[keyword]}\n",
    "            count_dict[keyword] = word_count[keyword]\n",
    "            flag = 1\n",
    "\n",
    "        if flag == 0:\n",
    "            count_dict[keyword] = 0\n",
    "        # count_dict.update(count)\n",
    "    print(count_dict)\n",
    "    keyword_count.append(count_dict)\n",
    "    keyword_count_list.append(keyword_count)\n",
    "    # print(keyword_count)\n",
    "print(\"key:\", keyword_count_list)\n",
    "\n",
    "# filter_list.append(filter)\n",
    "\n",
    "# print(filter_list)"
   ]
  },
  {
   "cell_type": "code",
   "execution_count": 575,
   "metadata": {},
   "outputs": [
    {
     "name": "stdout",
     "output_type": "stream",
     "text": [
      "[242, 78, 28, 64, 4, 41, 25, 0]\n",
      "[254, 43, 63, 18, 0, 19, 5, 0]\n",
      "[91, 26, 52, 11, 1, 3, 14, 6]\n",
      "[147, 60, 105, 23, 152, 14, 178, 0]\n",
      "[223, 157, 70, 9, 30, 24, 53, 1]\n",
      "[100, 50, 9, 12, 3, 11, 13, 0]\n",
      "[177, 37, 105, 0, 4, 7, 13, 0]\n",
      "[72, 48, 72, 7, 12, 8, 40, 2]\n",
      "[398, 206, 110, 14, 213, 53, 288, 2]\n",
      "[153, 31, 68, 12, 8, 11, 18, 80]\n"
     ]
    },
    {
     "data": {
      "text/plain": [
       "'d:\\\\work\\\\zufe\\\\Visualize\\\\大作业\\\\aaa.html'"
      ]
     },
     "execution_count": 575,
     "metadata": {},
     "output_type": "execute_result"
    }
   ],
   "source": [
    "line = Line()\n",
    "line.add_xaxis(keywords)\n",
    "# print(df_group.index)\n",
    "years = [2013, 2014, 2015, 2016, 2017, 2018, 2019, 2020, 2021, 2022]\n",
    "year = 2013\n",
    "color_list = [\n",
    "    \"red\",\n",
    "    \"blue\",\n",
    "    \"green\",\n",
    "    \"LightSlateBlue\",\n",
    "    \"purple\",\n",
    "    \"black\",\n",
    "    \"orange\",\n",
    "    \"pink\",\n",
    "    \"gray\",\n",
    "    \"cyan\",\n",
    "]\n",
    "for i, keyword_list in enumerate(keyword_count_list):\n",
    "    # print(keyword_list)\n",
    "    for keyword in keyword_list:\n",
    "        # print(keyword)\n",
    "        keyword = [value for key, value in keyword.items()]\n",
    "        print(keyword)\n",
    "\n",
    "    line.add_yaxis(\n",
    "        years[i],\n",
    "        keyword,\n",
    "        markpoint_opts=opts.MarkPointOpts(symbol_size=30),\n",
    "        is_connect_nones=True,\n",
    "        color=color_list[i],\n",
    "        linestyle_opts=opts.LineStyleOpts(width=2),\n",
    "    )\n",
    "\n",
    "\n",
    "line.set_global_opts(\n",
    "    title_opts=opts.TitleOpts(title=\"主题词词频\", pos_right=400, pos_top=15),\n",
    "    legend_opts=opts.LegendOpts(pos_right=100, pos_top=60, border_color=color_list),\n",
    ")\n",
    "line.render(\"aaa.html\")"
   ]
  },
  {
   "cell_type": "code",
   "execution_count": 461,
   "metadata": {},
   "outputs": [
    {
     "name": "stdout",
     "output_type": "stream",
     "text": [
      "[[1]]\n",
      "[[1], [2]]\n"
     ]
    }
   ],
   "source": [
    "a = [1]\n",
    "b = [2]\n",
    "c = []\n",
    "c.append(a)\n",
    "print(c)\n",
    "c.append(b)\n",
    "print(c)"
   ]
  },
  {
   "cell_type": "code",
   "execution_count": null,
   "metadata": {},
   "outputs": [],
   "source": []
  }
 ],
 "metadata": {
  "kernelspec": {
   "display_name": "py310",
   "language": "python",
   "name": "python3"
  },
  "language_info": {
   "codemirror_mode": {
    "name": "ipython",
    "version": 3
   },
   "file_extension": ".py",
   "mimetype": "text/x-python",
   "name": "python",
   "nbconvert_exporter": "python",
   "pygments_lexer": "ipython3",
   "version": "3.10.12"
  }
 },
 "nbformat": 4,
 "nbformat_minor": 2
}
